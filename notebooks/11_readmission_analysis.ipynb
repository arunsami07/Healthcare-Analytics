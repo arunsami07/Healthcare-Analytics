{
 "cells": [
  {
   "cell_type": "markdown",
   "id": "ea8bc3f3",
   "metadata": {},
   "source": [
    "### Load Dataset"
   ]
  },
  {
   "cell_type": "code",
   "execution_count": 1,
   "id": "b97ddcc6",
   "metadata": {},
   "outputs": [
    {
     "data": {
      "text/plain": [
       "readmitted_within_30_days\n",
       "No     460\n",
       "Yes     40\n",
       "Name: count, dtype: int64"
      ]
     },
     "execution_count": 1,
     "metadata": {},
     "output_type": "execute_result"
    }
   ],
   "source": [
    "import pandas as pd\n",
    "\n",
    "df = pd.read_csv(\"../data/raw/healthcare_analytics_dataset.csv\")\n",
    "\n",
    "# Preview target column\n",
    "df[\"readmitted_within_30_days\"].value_counts()"
   ]
  },
  {
   "cell_type": "markdown",
   "id": "4d694bf3",
   "metadata": {},
   "source": [
    "### Select Features for Modeling"
   ]
  },
  {
   "cell_type": "code",
   "execution_count": 2,
   "id": "66b33856",
   "metadata": {},
   "outputs": [
    {
     "data": {
      "text/html": [
       "<div>\n",
       "<style scoped>\n",
       "    .dataframe tbody tr th:only-of-type {\n",
       "        vertical-align: middle;\n",
       "    }\n",
       "\n",
       "    .dataframe tbody tr th {\n",
       "        vertical-align: top;\n",
       "    }\n",
       "\n",
       "    .dataframe thead th {\n",
       "        text-align: right;\n",
       "    }\n",
       "</style>\n",
       "<table border=\"1\" class=\"dataframe\">\n",
       "  <thead>\n",
       "    <tr style=\"text-align: right;\">\n",
       "      <th></th>\n",
       "      <th>age</th>\n",
       "      <th>gender</th>\n",
       "      <th>doctor_specialty</th>\n",
       "      <th>length_of_stay</th>\n",
       "      <th>bed_ward</th>\n",
       "      <th>insurance_status</th>\n",
       "      <th>satisfaction_score</th>\n",
       "      <th>doctor_rating</th>\n",
       "      <th>readmitted_within_30_days</th>\n",
       "    </tr>\n",
       "  </thead>\n",
       "  <tbody>\n",
       "    <tr>\n",
       "      <th>0</th>\n",
       "      <td>4</td>\n",
       "      <td>Other</td>\n",
       "      <td>Cardiology</td>\n",
       "      <td>3</td>\n",
       "      <td>ICU</td>\n",
       "      <td>Uninsured</td>\n",
       "      <td>1</td>\n",
       "      <td>2</td>\n",
       "      <td>Yes</td>\n",
       "    </tr>\n",
       "    <tr>\n",
       "      <th>1</th>\n",
       "      <td>26</td>\n",
       "      <td>Other</td>\n",
       "      <td>Oncology</td>\n",
       "      <td>7</td>\n",
       "      <td>Surgery</td>\n",
       "      <td>Uninsured</td>\n",
       "      <td>6</td>\n",
       "      <td>2</td>\n",
       "      <td>No</td>\n",
       "    </tr>\n",
       "    <tr>\n",
       "      <th>2</th>\n",
       "      <td>13</td>\n",
       "      <td>Female</td>\n",
       "      <td>Pulmonology</td>\n",
       "      <td>13</td>\n",
       "      <td>Surgery</td>\n",
       "      <td>Uninsured</td>\n",
       "      <td>10</td>\n",
       "      <td>3</td>\n",
       "      <td>No</td>\n",
       "    </tr>\n",
       "    <tr>\n",
       "      <th>3</th>\n",
       "      <td>6</td>\n",
       "      <td>Other</td>\n",
       "      <td>Pulmonology</td>\n",
       "      <td>2</td>\n",
       "      <td>ICU</td>\n",
       "      <td>Private</td>\n",
       "      <td>6</td>\n",
       "      <td>3</td>\n",
       "      <td>No</td>\n",
       "    </tr>\n",
       "    <tr>\n",
       "      <th>4</th>\n",
       "      <td>69</td>\n",
       "      <td>Other</td>\n",
       "      <td>Endocrinology</td>\n",
       "      <td>7</td>\n",
       "      <td>General</td>\n",
       "      <td>Uninsured</td>\n",
       "      <td>1</td>\n",
       "      <td>4</td>\n",
       "      <td>No</td>\n",
       "    </tr>\n",
       "  </tbody>\n",
       "</table>\n",
       "</div>"
      ],
      "text/plain": [
       "   age  gender doctor_specialty  length_of_stay bed_ward insurance_status  \\\n",
       "0    4   Other       Cardiology               3      ICU        Uninsured   \n",
       "1   26   Other         Oncology               7  Surgery        Uninsured   \n",
       "2   13  Female      Pulmonology              13  Surgery        Uninsured   \n",
       "3    6   Other      Pulmonology               2      ICU          Private   \n",
       "4   69   Other    Endocrinology               7  General        Uninsured   \n",
       "\n",
       "   satisfaction_score  doctor_rating readmitted_within_30_days  \n",
       "0                   1              2                       Yes  \n",
       "1                   6              2                        No  \n",
       "2                  10              3                        No  \n",
       "3                   6              3                        No  \n",
       "4                   1              4                        No  "
      ]
     },
     "execution_count": 2,
     "metadata": {},
     "output_type": "execute_result"
    }
   ],
   "source": [
    "features = [\n",
    "    \"age\",\n",
    "    \"gender\",\n",
    "    \"doctor_specialty\",\n",
    "    \"length_of_stay\",\n",
    "    \"bed_ward\",\n",
    "    \"insurance_status\",\n",
    "    \"satisfaction_score\",\n",
    "    \"doctor_rating\",\n",
    "]\n",
    "\n",
    "df_model = df[features + [\"readmitted_within_30_days\"]].dropna()\n",
    "df_model.head()"
   ]
  },
  {
   "cell_type": "markdown",
   "id": "6aa00825",
   "metadata": {},
   "source": [
    "### Encode Categorical Features"
   ]
  },
  {
   "cell_type": "code",
   "execution_count": 3,
   "id": "6fcedb46",
   "metadata": {},
   "outputs": [],
   "source": [
    "from sklearn.preprocessing import LabelEncoder\n",
    "\n",
    "df_encoded = df_model.copy()\n",
    "le = LabelEncoder()\n",
    "\n",
    "# Encode categorical columns\n",
    "for col in [\"gender\", \"doctor_specialty\", \"bed_ward\", \"insurance_status\"]:\n",
    "    df_encoded[col] = le.fit_transform(df_encoded[col])"
   ]
  },
  {
   "cell_type": "markdown",
   "id": "984095c7",
   "metadata": {},
   "source": [
    "### Train/Test Split"
   ]
  },
  {
   "cell_type": "code",
   "execution_count": 4,
   "id": "24dee188",
   "metadata": {},
   "outputs": [],
   "source": [
    "from sklearn.model_selection import train_test_split\n",
    "\n",
    "X = df_encoded.drop(columns=\"readmitted_within_30_days\")\n",
    "y = df_encoded[\"readmitted_within_30_days\"]\n",
    "\n",
    "X_train, X_test, y_train, y_test = train_test_split(\n",
    "    X, y, test_size=0.2, random_state=42\n",
    ")"
   ]
  },
  {
   "cell_type": "markdown",
   "id": "e979f449",
   "metadata": {},
   "source": [
    "### Train Random Forest Classifier"
   ]
  },
  {
   "cell_type": "code",
   "execution_count": 5,
   "id": "070e1634",
   "metadata": {},
   "outputs": [
    {
     "name": "stdout",
     "output_type": "stream",
     "text": [
      "✅ Classification Report:\n",
      "               precision    recall  f1-score   support\n",
      "\n",
      "          No       0.92      1.00      0.96        92\n",
      "         Yes       0.00      0.00      0.00         8\n",
      "\n",
      "    accuracy                           0.92       100\n",
      "   macro avg       0.46      0.50      0.48       100\n",
      "weighted avg       0.85      0.92      0.88       100\n",
      "\n",
      "✅ Confusion Matrix:\n",
      " [[92  0]\n",
      " [ 8  0]]\n"
     ]
    },
    {
     "name": "stderr",
     "output_type": "stream",
     "text": [
      "c:\\Users\\HP\\AppData\\Local\\Programs\\Python\\Python313\\Lib\\site-packages\\sklearn\\metrics\\_classification.py:1565: UndefinedMetricWarning: Precision is ill-defined and being set to 0.0 in labels with no predicted samples. Use `zero_division` parameter to control this behavior.\n",
      "  _warn_prf(average, modifier, f\"{metric.capitalize()} is\", len(result))\n",
      "c:\\Users\\HP\\AppData\\Local\\Programs\\Python\\Python313\\Lib\\site-packages\\sklearn\\metrics\\_classification.py:1565: UndefinedMetricWarning: Precision is ill-defined and being set to 0.0 in labels with no predicted samples. Use `zero_division` parameter to control this behavior.\n",
      "  _warn_prf(average, modifier, f\"{metric.capitalize()} is\", len(result))\n",
      "c:\\Users\\HP\\AppData\\Local\\Programs\\Python\\Python313\\Lib\\site-packages\\sklearn\\metrics\\_classification.py:1565: UndefinedMetricWarning: Precision is ill-defined and being set to 0.0 in labels with no predicted samples. Use `zero_division` parameter to control this behavior.\n",
      "  _warn_prf(average, modifier, f\"{metric.capitalize()} is\", len(result))\n"
     ]
    }
   ],
   "source": [
    "from sklearn.ensemble import RandomForestClassifier\n",
    "from sklearn.metrics import classification_report, confusion_matrix\n",
    "\n",
    "clf = RandomForestClassifier(random_state=42)\n",
    "clf.fit(X_train, y_train)\n",
    "\n",
    "y_pred = clf.predict(X_test)\n",
    "\n",
    "print(\"✅ Classification Report:\\n\", classification_report(y_test, y_pred))\n",
    "print(\"✅ Confusion Matrix:\\n\", confusion_matrix(y_test, y_pred))"
   ]
  },
  {
   "cell_type": "markdown",
   "id": "5d12d102",
   "metadata": {},
   "source": [
    "### Visualize Feature Importance"
   ]
  },
  {
   "cell_type": "code",
   "execution_count": 6,
   "id": "9557852b",
   "metadata": {},
   "outputs": [
    {
     "name": "stderr",
     "output_type": "stream",
     "text": [
      "C:\\Users\\HP\\AppData\\Local\\Temp\\ipykernel_15316\\2415121894.py:12: FutureWarning: \n",
      "\n",
      "Passing `palette` without assigning `hue` is deprecated and will be removed in v0.14.0. Assign the `y` variable to `hue` and set `legend=False` for the same effect.\n",
      "\n",
      "  sns.barplot(x=\"importance\", y=\"feature\", data=feat_df, palette=\"viridis\")\n"
     ]
    },
    {
     "data": {
      "image/png": "[encoded data removed]",
      "text/plain": [
       "<Figure size 800x500 with 1 Axes>"
      ]
     },
     "metadata": {},
     "output_type": "display_data"
    }
   ],
   "source": [
    "import matplotlib.pyplot as plt\n",
    "import seaborn as sns\n",
    "import os\n",
    "\n",
    "os.makedirs(\"../visuals/plots\", exist_ok=True)\n",
    "\n",
    "importances = clf.feature_importances_\n",
    "feat_df = pd.DataFrame({\"feature\": X.columns, \"importance\": importances})\n",
    "feat_df = feat_df.sort_values(\"importance\", ascending=False)\n",
    "\n",
    "plt.figure(figsize=(8, 5))\n",
    "sns.barplot(x=\"importance\", y=\"feature\", data=feat_df, palette=\"viridis\")\n",
    "plt.title(\"Feature Importance – Readmission Prediction\")\n",
    "plt.tight_layout()\n",
    "plt.savefig(\"../visuals/plots/readmission_feature_importance.png\")\n",
    "plt.show()"
   ]
  },
  {
   "cell_type": "markdown",
   "id": "0878196a",
   "metadata": {},
   "source": [
    "### Export Predictions for Power BI"
   ]
  },
  {
   "cell_type": "code",
   "execution_count": 7,
   "id": "e9ed325c",
   "metadata": {},
   "outputs": [
    {
     "name": "stdout",
     "output_type": "stream",
     "text": [
      "✅ Predictions exported to /data/processed/cleaned\n"
     ]
    }
   ],
   "source": [
    "X_test[\"actual\"] = y_test.values\n",
    "X_test[\"predicted\"] = y_pred\n",
    "\n",
    "X_test.to_csv(\"../data/processed/cleaned/readmission_predictions.csv\", index=False)\n",
    "print(\"✅ Predictions exported to /data/processed/cleaned\")"
   ]
  }
 ],
 "metadata": {
  "kernelspec": {
   "display_name": "Python 3",
   "language": "python",
   "name": "python3"
  },
  "language_info": {
   "codemirror_mode": {
    "name": "ipython",
    "version": 3
   },
   "file_extension": ".py",
   "mimetype": "text/x-python",
   "name": "python",
   "nbconvert_exporter": "python",
   "pygments_lexer": "ipython3",
   "version": "3.13.2"
  }
 },
 "nbformat": 4,
 "nbformat_minor": 5
}
