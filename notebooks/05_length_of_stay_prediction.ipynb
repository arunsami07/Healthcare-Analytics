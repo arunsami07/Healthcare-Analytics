{
 "cells": [
  {
   "cell_type": "markdown",
   "id": "47f3c34d",
   "metadata": {},
   "source": [
    "### Load and Inspect Data"
   ]
  },
  {
   "cell_type": "code",
   "execution_count": 2,
   "id": "d6fd03bb",
   "metadata": {},
   "outputs": [
    {
     "data": {
      "text/html": [
       "<div>\n",
       "<style scoped>\n",
       "    .dataframe tbody tr th:only-of-type {\n",
       "        vertical-align: middle;\n",
       "    }\n",
       "\n",
       "    .dataframe tbody tr th {\n",
       "        vertical-align: top;\n",
       "    }\n",
       "\n",
       "    .dataframe thead th {\n",
       "        text-align: right;\n",
       "    }\n",
       "</style>\n",
       "<table border=\"1\" class=\"dataframe\">\n",
       "  <thead>\n",
       "    <tr style=\"text-align: right;\">\n",
       "      <th></th>\n",
       "      <th>length_of_stay</th>\n",
       "      <th>age</th>\n",
       "      <th>disease_type</th>\n",
       "      <th>doctor_specialty</th>\n",
       "    </tr>\n",
       "  </thead>\n",
       "  <tbody>\n",
       "    <tr>\n",
       "      <th>0</th>\n",
       "      <td>3</td>\n",
       "      <td>4</td>\n",
       "      <td>Diabetes</td>\n",
       "      <td>Cardiology</td>\n",
       "    </tr>\n",
       "    <tr>\n",
       "      <th>1</th>\n",
       "      <td>7</td>\n",
       "      <td>26</td>\n",
       "      <td>Cancer</td>\n",
       "      <td>Oncology</td>\n",
       "    </tr>\n",
       "    <tr>\n",
       "      <th>2</th>\n",
       "      <td>13</td>\n",
       "      <td>13</td>\n",
       "      <td>Diabetes</td>\n",
       "      <td>Pulmonology</td>\n",
       "    </tr>\n",
       "    <tr>\n",
       "      <th>3</th>\n",
       "      <td>2</td>\n",
       "      <td>6</td>\n",
       "      <td>Flu</td>\n",
       "      <td>Pulmonology</td>\n",
       "    </tr>\n",
       "    <tr>\n",
       "      <th>4</th>\n",
       "      <td>7</td>\n",
       "      <td>69</td>\n",
       "      <td>Flu</td>\n",
       "      <td>Endocrinology</td>\n",
       "    </tr>\n",
       "  </tbody>\n",
       "</table>\n",
       "</div>"
      ],
      "text/plain": [
       "   length_of_stay  age disease_type doctor_specialty\n",
       "0               3    4     Diabetes       Cardiology\n",
       "1               7   26       Cancer         Oncology\n",
       "2              13   13     Diabetes      Pulmonology\n",
       "3               2    6          Flu      Pulmonology\n",
       "4               7   69          Flu    Endocrinology"
      ]
     },
     "execution_count": 2,
     "metadata": {},
     "output_type": "execute_result"
    }
   ],
   "source": [
    "import pandas as pd\n",
    "\n",
    "# Load data\n",
    "df = pd.read_csv(\"../data/raw/healthcare_analytics_dataset.csv\")\n",
    "\n",
    "# Preview length of stay\n",
    "df[[\"length_of_stay\", \"age\", \"disease_type\", \"doctor_specialty\"]].head()"
   ]
  },
  {
   "cell_type": "markdown",
   "id": "911b2097",
   "metadata": {},
   "source": [
    "### Drop Missing or Invalid Entries"
   ]
  },
  {
   "cell_type": "code",
   "execution_count": 3,
   "id": "3af3fe69",
   "metadata": {},
   "outputs": [],
   "source": [
    "# Drop rows where length_of_stay is missing or invalid\n",
    "df = df[df[\"length_of_stay\"].notnull()]\n",
    "df = df[df[\"length_of_stay\"] >= 0]  # remove negatives"
   ]
  },
  {
   "cell_type": "markdown",
   "id": "c8f960da",
   "metadata": {},
   "source": [
    "### Select Features for Prediction"
   ]
  },
  {
   "cell_type": "markdown",
   "id": "b4ca81dd",
   "metadata": {},
   "source": [
    "We’ll choose features that could affect stay length."
   ]
  },
  {
   "cell_type": "code",
   "execution_count": 4,
   "id": "6337a647",
   "metadata": {},
   "outputs": [],
   "source": [
    "selected_features = [\n",
    "    \"age\",\n",
    "    \"gender\",\n",
    "    \"disease_type\",\n",
    "    \"doctor_specialty\",\n",
    "    \"insurance_status\",\n",
    "    \"satisfaction_score\",\n",
    "]"
   ]
  },
  {
   "cell_type": "markdown",
   "id": "992a63a3",
   "metadata": {},
   "source": [
    "### Encode Categorical Columns"
   ]
  },
  {
   "cell_type": "code",
   "execution_count": 5,
   "id": "36283d60",
   "metadata": {},
   "outputs": [],
   "source": [
    "# One-hot encode categoricals\n",
    "df_encoded = pd.get_dummies(df[selected_features + [\"length_of_stay\"]], drop_first=True)\n",
    "\n",
    "# Separate X and y\n",
    "X = df_encoded.drop(columns=\"length_of_stay\")\n",
    "y = df_encoded[\"length_of_stay\"]"
   ]
  },
  {
   "cell_type": "markdown",
   "id": "1576a0d7",
   "metadata": {},
   "source": [
    "### Train-Test Split"
   ]
  },
  {
   "cell_type": "code",
   "execution_count": 6,
   "id": "94e27db4",
   "metadata": {},
   "outputs": [],
   "source": [
    "from sklearn.model_selection import train_test_split\n",
    "\n",
    "X_train, X_test, y_train, y_test = train_test_split(\n",
    "    X, y, test_size=0.2, random_state=42\n",
    ")"
   ]
  },
  {
   "cell_type": "markdown",
   "id": "b98b875b",
   "metadata": {},
   "source": [
    "### Train Regression Model"
   ]
  },
  {
   "cell_type": "code",
   "execution_count": 7,
   "id": "d0a4f587",
   "metadata": {},
   "outputs": [
    {
     "name": "stdout",
     "output_type": "stream",
     "text": [
      "MAE: 4.11\n",
      "R² Score: -0.25\n"
     ]
    }
   ],
   "source": [
    "from sklearn.ensemble import RandomForestRegressor\n",
    "from sklearn.metrics import mean_absolute_error, r2_score\n",
    "\n",
    "# Train model\n",
    "reg_model = RandomForestRegressor(random_state=42)\n",
    "reg_model.fit(X_train, y_train)\n",
    "\n",
    "# Predict\n",
    "y_pred = reg_model.predict(X_test)\n",
    "\n",
    "# Evaluate\n",
    "mae = mean_absolute_error(y_test, y_pred)\n",
    "r2 = r2_score(y_test, y_pred)\n",
    "\n",
    "print(f\"MAE: {mae:.2f}\")\n",
    "print(f\"R² Score: {r2:.2f}\")"
   ]
  },
  {
   "cell_type": "markdown",
   "id": "b3271584",
   "metadata": {},
   "source": [
    "### Visualize Prediction vs Actual"
   ]
  },
  {
   "cell_type": "code",
   "execution_count": 8,
   "id": "544e1ea6",
   "metadata": {},
   "outputs": [
    {
     "data": {
      "image/png": "[encoded data removed]",
      "text/plain": [
       "<Figure size 600x600 with 1 Axes>"
      ]
     },
     "metadata": {},
     "output_type": "display_data"
    }
   ],
   "source": [
    "import matplotlib.pyplot as plt\n",
    "import seaborn as sns\n",
    "\n",
    "plt.figure(figsize=(6, 6))\n",
    "sns.scatterplot(x=y_test, y=y_pred)\n",
    "plt.plot([y.min(), y.max()], [y.min(), y.max()], \"r--\")\n",
    "plt.xlabel(\"Actual Length of Stay\")\n",
    "plt.ylabel(\"Predicted\")\n",
    "plt.title(\"Prediction vs Actual Length of Stay\")\n",
    "plt.tight_layout()\n",
    "plt.savefig(\"../visuals/plots/length_of_stay_regression.png\")\n",
    "plt.show()"
   ]
  },
  {
   "cell_type": "markdown",
   "id": "638b8ed1",
   "metadata": {},
   "source": [
    "### Export Predictions"
   ]
  },
  {
   "cell_type": "code",
   "execution_count": 9,
   "id": "31bc4f0f",
   "metadata": {},
   "outputs": [
    {
     "name": "stdout",
     "output_type": "stream",
     "text": [
      "✅ Exported predictions to /data/processed//cleaned/length_of_stay_predictions.csv\n"
     ]
    }
   ],
   "source": [
    "# Reload IDs\n",
    "ids = df.loc[X_test.index, [\"patient_id\", \"appointment_id\"]].reset_index(drop=True)\n",
    "\n",
    "# Build result df\n",
    "results = pd.DataFrame(\n",
    "    {\n",
    "        \"actual_length_of_stay\": y_test.reset_index(drop=True),\n",
    "        \"predicted_length_of_stay\": y_pred,\n",
    "    }\n",
    ")\n",
    "\n",
    "results = pd.concat([ids, results], axis=1)\n",
    "\n",
    "# Save\n",
    "results.to_csv(\"../data/processed/cleaned/length_of_stay_predictions.csv\", index=False)\n",
    "print(\"✅ Exported predictions to /data/processed//cleaned/length_of_stay_predictions.csv\")"
   ]
  }
 ],
 "metadata": {
  "kernelspec": {
   "display_name": "Python 3",
   "language": "python",
   "name": "python3"
  },
  "language_info": {
   "codemirror_mode": {
    "name": "ipython",
    "version": 3
   },
   "file_extension": ".py",
   "mimetype": "text/x-python",
   "name": "python",
   "nbconvert_exporter": "python",
   "pygments_lexer": "ipython3",
   "version": "3.13.2"
  }
 },
 "nbformat": 4,
 "nbformat_minor": 5
}
