{
 "cells": [
  {
   "cell_type": "markdown",
   "id": "238319b6",
   "metadata": {},
   "source": [
    "### Import Libraries and Load Dataset"
   ]
  },
  {
   "cell_type": "code",
   "execution_count": 1,
   "id": "1015b891",
   "metadata": {},
   "outputs": [
    {
     "data": {
      "text/plain": [
       "(500, 26)"
      ]
     },
     "execution_count": 1,
     "metadata": {},
     "output_type": "execute_result"
    }
   ],
   "source": [
    "import pandas as pd\n",
    "\n",
    "# Load original dataset\n",
    "df = pd.read_csv(\"../data/raw/healthcare_analytics_dataset.csv\")\n",
    "\n",
    "# View shape\n",
    "df.shape"
   ]
  },
  {
   "cell_type": "markdown",
   "id": "ea56daa0",
   "metadata": {},
   "source": [
    "### Check Missing Values"
   ]
  },
  {
   "cell_type": "code",
   "execution_count": 2,
   "id": "810496de",
   "metadata": {},
   "outputs": [
    {
     "data": {
      "text/plain": [
       "patient_id                   0\n",
       "appointment_id               0\n",
       "appointment_date             0\n",
       "scheduled_date               0\n",
       "no_show                      0\n",
       "age                          0\n",
       "gender                       0\n",
       "zip_code                     0\n",
       "disease_type                 0\n",
       "doctor_id                    0\n",
       "doctor_specialty             0\n",
       "length_of_stay               0\n",
       "bed_id                       0\n",
       "bed_ward                     0\n",
       "insurance_status             0\n",
       "claim_amount                 0\n",
       "claim_date                   0\n",
       "covid_test_result            0\n",
       "covid_test_date              0\n",
       "medical_test_type            0\n",
       "test_result_value            0\n",
       "satisfaction_score           0\n",
       "readmitted_within_30_days    0\n",
       "doctor_rating                0\n",
       "hospital_name                0\n",
       "state                        0\n",
       "dtype: int64"
      ]
     },
     "execution_count": 2,
     "metadata": {},
     "output_type": "execute_result"
    }
   ],
   "source": [
    "# Check for missing values\n",
    "df.isnull().sum()"
   ]
  },
  {
   "cell_type": "markdown",
   "id": "48a139ce",
   "metadata": {},
   "source": [
    "### Convert Date Columns"
   ]
  },
  {
   "cell_type": "code",
   "execution_count": 3,
   "id": "1bf5246e",
   "metadata": {},
   "outputs": [],
   "source": [
    "# Convert to datetime\n",
    "df[\"appointment_date\"] = pd.to_datetime(df[\"appointment_date\"])\n",
    "df[\"scheduled_date\"] = pd.to_datetime(df[\"scheduled_date\"])\n",
    "df[\"claim_date\"] = pd.to_datetime(df[\"claim_date\"])\n",
    "df[\"covid_test_date\"] = pd.to_datetime(df[\"covid_test_date\"])"
   ]
  },
  {
   "cell_type": "markdown",
   "id": "a4cec1e6",
   "metadata": {},
   "source": [
    "### Feature Engineering – Time Gap Between Schedule and Appointment"
   ]
  },
  {
   "cell_type": "code",
   "execution_count": 4,
   "id": "09cbb572",
   "metadata": {},
   "outputs": [],
   "source": [
    "# Days between scheduling and appointment\n",
    "df[\"days_waiting\"] = (df[\"appointment_date\"] - df[\"scheduled_date\"]).dt.days\n",
    "\n",
    "# Drop any negative values (data entry issues)\n",
    "df = df[df[\"days_waiting\"] >= 0]"
   ]
  },
  {
   "cell_type": "markdown",
   "id": "a09a89bb",
   "metadata": {},
   "source": [
    "### Encode Binary and Categorical Columns"
   ]
  },
  {
   "cell_type": "code",
   "execution_count": 5,
   "id": "e7fcc34c",
   "metadata": {},
   "outputs": [
    {
     "name": "stdout",
     "output_type": "stream",
     "text": [
      "Non-numeric columns before encoding:\n",
      " ['patient_id', 'appointment_id', 'no_show', 'gender', 'disease_type', 'doctor_id', 'doctor_specialty', 'bed_id', 'bed_ward', 'insurance_status', 'covid_test_result', 'medical_test_type', 'readmitted_within_30_days', 'hospital_name', 'state']\n"
     ]
    }
   ],
   "source": [
    "# Check which columns are still non-numeric\n",
    "non_numeric_cols = df.select_dtypes(include=[\"object\"]).columns.tolist()\n",
    "print(\"Non-numeric columns before encoding:\\n\", non_numeric_cols)"
   ]
  },
  {
   "cell_type": "code",
   "execution_count": 6,
   "id": "dbc383ef",
   "metadata": {},
   "outputs": [
    {
     "name": "stdout",
     "output_type": "stream",
     "text": [
      "All columns after encoding are numeric: True\n"
     ]
    }
   ],
   "source": [
    "# Convert Yes/No columns to binary\n",
    "df[\"no_show\"] = df[\"no_show\"].map({\"Yes\": 1, \"No\": 0})\n",
    "df[\"readmitted_within_30_days\"] = df[\"readmitted_within_30_days\"].map(\n",
    "    {\"Yes\": 1, \"No\": 0}\n",
    ")\n",
    "\n",
    "# One-hot encode all remaining object columns\n",
    "df = pd.get_dummies(df, drop_first=True)\n",
    "\n",
    "# Confirm only numeric columns remain\n",
    "print(\"All columns after encoding are numeric:\", all(df.dtypes != \"object\"))"
   ]
  },
  {
   "cell_type": "markdown",
   "id": "4142d218",
   "metadata": {},
   "source": [
    "### Drop Unnecessary Columns"
   ]
  },
  {
   "cell_type": "code",
   "execution_count": 7,
   "id": "e17cc2bb",
   "metadata": {},
   "outputs": [],
   "source": [
    "# List of columns we want to drop (if they exist)\n",
    "cols_to_drop = [\n",
    "    \"patient_id\",\n",
    "    \"appointment_id\",\n",
    "    \"scheduled_date\",\n",
    "    \"appointment_date\",\n",
    "    \"zip_code\",\n",
    "    \"claim_date\",\n",
    "    \"covid_test_date\",\n",
    "    \"bed_id\",\n",
    "    \"doctor_id\",\n",
    "    \"hospital_name\",\n",
    "    \"state\",\n",
    "]\n",
    "\n",
    "# Drop only those columns that are still in the DataFrame\n",
    "df_cleaned = df.drop(columns=[col for col in cols_to_drop if col in df.columns])"
   ]
  },
  {
   "cell_type": "markdown",
   "id": "a4c50063",
   "metadata": {},
   "source": [
    "### Save Cleaned Dataset"
   ]
  },
  {
   "cell_type": "code",
   "execution_count": 8,
   "id": "0d71761a",
   "metadata": {},
   "outputs": [
    {
     "name": "stdout",
     "output_type": "stream",
     "text": [
      "✅ Cleaned dataset saved to /data/processed/healthcare_cleaned.csv\n"
     ]
    }
   ],
   "source": [
    "# Save to processed folder\n",
    "df_cleaned.to_csv(\"../data/processed/healthcare_cleaned.csv\", index=False)\n",
    "print(\"✅ Cleaned dataset saved to /data/processed/healthcare_cleaned.csv\")"
   ]
  },
  {
   "cell_type": "markdown",
   "id": "a6178139",
   "metadata": {},
   "source": [
    "### Define X (features) and y (target)"
   ]
  },
  {
   "cell_type": "code",
   "execution_count": 9,
   "id": "fa6296bc",
   "metadata": {},
   "outputs": [
    {
     "data": {
      "text/plain": [
       "((500, 1251), (500,))"
      ]
     },
     "execution_count": 9,
     "metadata": {},
     "output_type": "execute_result"
    }
   ],
   "source": [
    "# Define X and y\n",
    "X = df_cleaned.drop(columns=[\"no_show\"])\n",
    "y = df_cleaned[\"no_show\"]\n",
    "\n",
    "# Confirm shapes\n",
    "X.shape, y.shape"
   ]
  },
  {
   "cell_type": "markdown",
   "id": "7a7df927",
   "metadata": {},
   "source": [
    "### Train-Test Split"
   ]
  },
  {
   "cell_type": "code",
   "execution_count": 10,
   "id": "d31e2fa5",
   "metadata": {},
   "outputs": [
    {
     "data": {
      "text/plain": [
       "((400, 1251), (100, 1251))"
      ]
     },
     "execution_count": 10,
     "metadata": {},
     "output_type": "execute_result"
    }
   ],
   "source": [
    "from sklearn.model_selection import train_test_split\n",
    "\n",
    "# Split\n",
    "X_train, X_test, y_train, y_test = train_test_split(\n",
    "    X, y, test_size=0.2, random_state=42\n",
    ")\n",
    "X_train.shape, X_test.shape"
   ]
  },
  {
   "cell_type": "markdown",
   "id": "10aaec69",
   "metadata": {},
   "source": [
    "### Train Random Forest Model"
   ]
  },
  {
   "cell_type": "code",
   "execution_count": 11,
   "id": "5e86adf6",
   "metadata": {},
   "outputs": [
    {
     "name": "stdout",
     "output_type": "stream",
     "text": [
      "Accuracy: 0.76\n",
      "\n",
      "Classification Report:\n",
      "               precision    recall  f1-score   support\n",
      "\n",
      "           0       0.76      1.00      0.86        76\n",
      "           1       0.00      0.00      0.00        24\n",
      "\n",
      "    accuracy                           0.76       100\n",
      "   macro avg       0.38      0.50      0.43       100\n",
      "weighted avg       0.58      0.76      0.66       100\n",
      "\n"
     ]
    },
    {
     "name": "stderr",
     "output_type": "stream",
     "text": [
      "c:\\Users\\HP\\AppData\\Local\\Programs\\Python\\Python313\\Lib\\site-packages\\sklearn\\metrics\\_classification.py:1565: UndefinedMetricWarning: Precision is ill-defined and being set to 0.0 in labels with no predicted samples. Use `zero_division` parameter to control this behavior.\n",
      "  _warn_prf(average, modifier, f\"{metric.capitalize()} is\", len(result))\n",
      "c:\\Users\\HP\\AppData\\Local\\Programs\\Python\\Python313\\Lib\\site-packages\\sklearn\\metrics\\_classification.py:1565: UndefinedMetricWarning: Precision is ill-defined and being set to 0.0 in labels with no predicted samples. Use `zero_division` parameter to control this behavior.\n",
      "  _warn_prf(average, modifier, f\"{metric.capitalize()} is\", len(result))\n",
      "c:\\Users\\HP\\AppData\\Local\\Programs\\Python\\Python313\\Lib\\site-packages\\sklearn\\metrics\\_classification.py:1565: UndefinedMetricWarning: Precision is ill-defined and being set to 0.0 in labels with no predicted samples. Use `zero_division` parameter to control this behavior.\n",
      "  _warn_prf(average, modifier, f\"{metric.capitalize()} is\", len(result))\n"
     ]
    }
   ],
   "source": [
    "from sklearn.ensemble import RandomForestClassifier\n",
    "from sklearn.metrics import classification_report, accuracy_score\n",
    "\n",
    "# Train model\n",
    "model = RandomForestClassifier(random_state=42)\n",
    "model.fit(X_train, y_train)\n",
    "\n",
    "# Predict on test set\n",
    "y_pred = model.predict(X_test)\n",
    "\n",
    "# Evaluate\n",
    "print(\"Accuracy:\", accuracy_score(y_test, y_pred))\n",
    "print(\"\\nClassification Report:\\n\", classification_report(y_test, y_pred))"
   ]
  },
  {
   "cell_type": "markdown",
   "id": "809a4319",
   "metadata": {},
   "source": [
    "### Visualize Feature Importance"
   ]
  },
  {
   "cell_type": "code",
   "execution_count": 12,
   "id": "0b9c7d0d",
   "metadata": {},
   "outputs": [
    {
     "data": {
      "image/png": "[encoded data removed]",
      "text/plain": [
       "<Figure size 1000x600 with 1 Axes>"
      ]
     },
     "metadata": {},
     "output_type": "display_data"
    }
   ],
   "source": [
    "import matplotlib.pyplot as plt\n",
    "import seaborn as sns\n",
    "\n",
    "# Get feature importances\n",
    "feature_importances = model.feature_importances_\n",
    "feature_names = X.columns\n",
    "\n",
    "# Create a DataFrame for easy plotting\n",
    "importance_df = pd.DataFrame(\n",
    "    {\"Feature\": feature_names, \"Importance\": feature_importances}\n",
    ").sort_values(by=\"Importance\", ascending=False)\n",
    "\n",
    "# Plot\n",
    "plt.figure(figsize=(10, 6))\n",
    "sns.barplot(x=\"Importance\", y=\"Feature\", data=importance_df.head(15))\n",
    "plt.title(\"Top Feature Importances for No-Show Prediction\")\n",
    "plt.tight_layout()\n",
    "\n",
    "# Save to visuals\n",
    "plt.savefig(\"../visuals/plots/no_show_feature_importance.png\")\n",
    "plt.show()"
   ]
  },
  {
   "cell_type": "markdown",
   "id": "aa9d2b1c",
   "metadata": {},
   "source": [
    "### Export Predictions to Power BI"
   ]
  },
  {
   "cell_type": "code",
   "execution_count": 13,
   "id": "70d5e112",
   "metadata": {},
   "outputs": [
    {
     "name": "stdout",
     "output_type": "stream",
     "text": [
      "✅ Predictions saved to /data/processed/cleaned/no_show_predictions.csv\n"
     ]
    }
   ],
   "source": [
    "# Add this after model.predict\n",
    "from sklearn.metrics import accuracy_score\n",
    "\n",
    "# Reload original data to get patient/appointment IDs\n",
    "original_df = pd.read_csv(\"../data/raw/healthcare_analytics_dataset.csv\")\n",
    "original_ids = original_df.loc[\n",
    "    X_test.index, [\"patient_id\", \"appointment_id\"]\n",
    "].reset_index(drop=True)\n",
    "\n",
    "# Predictions DataFrame\n",
    "predictions_df = pd.concat(\n",
    "    [\n",
    "        original_ids,\n",
    "        y_test.reset_index(drop=True).map({1: \"Yes\", 0: \"No\"}).rename(\"actual_no_show\"),\n",
    "        pd.Series(y_pred, name=\"predicted_no_show\").map({1: \"Yes\", 0: \"No\"}),\n",
    "    ],\n",
    "    axis=1,\n",
    ")\n",
    "\n",
    "# Save to CSV\n",
    "predictions_df.to_csv(\"../data/processed/cleaned/no_show_predictions.csv\", index=False)\n",
    "print(\"✅ Predictions saved to /data/processed/cleaned/no_show_predictions.csv\")"
   ]
  }
 ],
 "metadata": {
  "kernelspec": {
   "display_name": "Python 3",
   "language": "python",
   "name": "python3"
  },
  "language_info": {
   "codemirror_mode": {
    "name": "ipython",
    "version": 3
   },
   "file_extension": ".py",
   "mimetype": "text/x-python",
   "name": "python",
   "nbconvert_exporter": "python",
   "pygments_lexer": "ipython3",
   "version": "3.13.2"
  }
 },
 "nbformat": 4,
 "nbformat_minor": 5
}
